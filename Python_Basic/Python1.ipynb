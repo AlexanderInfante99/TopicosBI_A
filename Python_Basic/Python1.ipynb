{
 "cells": [
  {
   "cell_type": "markdown",
   "id": "261ac66a",
   "metadata": {},
   "source": [
    "# Python for Big Data\n",
    "\n",
    "1. Variables\n",
    "2. String\n",
    "3. Function print\n",
    "4. Booleanos y Condicionales\n",
    "5. Loops\n",
    "6. Functions\n",
    "7. Manejo de Excepciones"
   ]
  },
  {
   "cell_type": "markdown",
   "id": "ebbdea05",
   "metadata": {},
   "source": [
    "# 1. Variables"
   ]
  },
  {
   "cell_type": "code",
   "execution_count": 1,
   "id": "9771f888",
   "metadata": {},
   "outputs": [
    {
     "ename": "NameError",
     "evalue": "name 'resultado' is not defined",
     "output_type": "error",
     "traceback": [
      "\u001b[31m---------------------------------------------------------------------------\u001b[39m",
      "\u001b[31mNameError\u001b[39m                                 Traceback (most recent call last)",
      "\u001b[36mCell\u001b[39m\u001b[36m \u001b[39m\u001b[32mIn[1]\u001b[39m\u001b[32m, line 2\u001b[39m\n\u001b[32m      1\u001b[39m \u001b[38;5;66;03m# Variables no declaradas\u001b[39;00m\n\u001b[32m----> \u001b[39m\u001b[32m2\u001b[39m \u001b[43mresultado\u001b[49m\n",
      "\u001b[31mNameError\u001b[39m: name 'resultado' is not defined"
     ]
    }
   ],
   "source": [
    "# Variables no declaradas\n",
    "resultado"
   ]
  },
  {
   "cell_type": "code",
   "execution_count": null,
   "id": "bb2e0b59",
   "metadata": {},
   "outputs": [],
   "source": [
    "# Declarando variables\n",
    "monto_deuda = 1000\n",
    "moneda = \"soles\""
   ]
  },
  {
   "cell_type": "code",
   "execution_count": null,
   "id": "6211835f",
   "metadata": {},
   "outputs": [
    {
     "data": {
      "text/plain": [
       "1000"
      ]
     },
     "execution_count": 3,
     "metadata": {},
     "output_type": "execute_result"
    }
   ],
   "source": [
    "# Mostrar variable\n",
    "monto_deuda"
   ]
  },
  {
   "cell_type": "code",
   "execution_count": null,
   "id": "8d60bfc0",
   "metadata": {},
   "outputs": [],
   "source": [
    "# Interactual con el usuario\n",
    "monto_interes = int(input(\"Ingrese el interés\"))"
   ]
  },
  {
   "cell_type": "code",
   "execution_count": null,
   "id": "b552447c",
   "metadata": {},
   "outputs": [
    {
     "data": {
      "text/plain": [
       "4000"
      ]
     },
     "execution_count": 4,
     "metadata": {},
     "output_type": "execute_result"
    }
   ],
   "source": [
    "# Operando con variables \n",
    "resultado = monto_deuda * 4\n",
    "resultado"
   ]
  },
  {
   "cell_type": "code",
   "execution_count": null,
   "id": "cda96eb3",
   "metadata": {},
   "outputs": [
    {
     "data": {
      "text/plain": [
       "int"
      ]
     },
     "execution_count": 5,
     "metadata": {},
     "output_type": "execute_result"
    }
   ],
   "source": [
    "#Tipo de variable\n",
    "type(monto_deuda)"
   ]
  },
  {
   "cell_type": "code",
   "execution_count": null,
   "id": "c01b85e3",
   "metadata": {},
   "outputs": [
    {
     "data": {
      "text/plain": [
       "str"
      ]
     },
     "execution_count": 6,
     "metadata": {},
     "output_type": "execute_result"
    }
   ],
   "source": [
    "type(moneda)"
   ]
  },
  {
   "cell_type": "code",
   "execution_count": null,
   "id": "903a7706",
   "metadata": {},
   "outputs": [
    {
     "data": {
      "text/plain": [
       "16000"
      ]
     },
     "execution_count": 7,
     "metadata": {},
     "output_type": "execute_result"
    }
   ],
   "source": [
    "# Operar variables\n",
    "4 * resultado"
   ]
  },
  {
   "cell_type": "code",
   "execution_count": null,
   "id": "8e4b87b8",
   "metadata": {},
   "outputs": [
    {
     "data": {
      "text/plain": [
       "'1000'"
      ]
     },
     "execution_count": 9,
     "metadata": {},
     "output_type": "execute_result"
    }
   ],
   "source": [
    "# Cambiando el tipo de variable\n",
    "str_monto_deuda = str(monto_deuda)\n",
    "str_monto_deuda"
   ]
  },
  {
   "cell_type": "code",
   "execution_count": null,
   "id": "52245233",
   "metadata": {},
   "outputs": [
    {
     "data": {
      "text/plain": [
       "1000"
      ]
     },
     "execution_count": 10,
     "metadata": {},
     "output_type": "execute_result"
    }
   ],
   "source": [
    "int_monto_deuda = int(str_monto_deuda)\n",
    "int_monto_deuda"
   ]
  },
  {
   "cell_type": "markdown",
   "id": "6ae8b444",
   "metadata": {},
   "source": [
    "# 2. String"
   ]
  },
  {
   "cell_type": "code",
   "execution_count": null,
   "id": "74a539da",
   "metadata": {},
   "outputs": [
    {
     "data": {
      "text/plain": [
       "'Hola'"
      ]
     },
     "execution_count": 11,
     "metadata": {},
     "output_type": "execute_result"
    }
   ],
   "source": [
    "# Concatenar\n",
    "'Ho' + 'la'"
   ]
  },
  {
   "cell_type": "code",
   "execution_count": null,
   "id": "f5dbd9a0",
   "metadata": {},
   "outputs": [],
   "source": [
    "# Uso de comilla simples o dobles\n",
    "text_1 = \"Mi primer mensaje\"\n",
    "text_2 = \"Mi segundo mensaje\""
   ]
  },
  {
   "cell_type": "code",
   "execution_count": null,
   "id": "b294e882",
   "metadata": {},
   "outputs": [
    {
     "data": {
      "text/plain": [
       "'Mi primer mensaje'"
      ]
     },
     "execution_count": 17,
     "metadata": {},
     "output_type": "execute_result"
    }
   ],
   "source": [
    "text_1"
   ]
  },
  {
   "cell_type": "code",
   "execution_count": null,
   "id": "2945970d",
   "metadata": {},
   "outputs": [
    {
     "data": {
      "text/plain": [
       "'Mi segundo mensaje'"
      ]
     },
     "execution_count": 18,
     "metadata": {},
     "output_type": "execute_result"
    }
   ],
   "source": [
    "text_2"
   ]
  },
  {
   "cell_type": "code",
   "execution_count": null,
   "id": "d2eb761b",
   "metadata": {},
   "outputs": [],
   "source": [
    "# Comillas triples\n",
    "\n",
    "consulta = \"\"\"\n",
    "select * from USERS \n",
    "where ID = 5\n",
    "group by ADMIN\n",
    "\"\"\""
   ]
  },
  {
   "cell_type": "code",
   "execution_count": null,
   "id": "dd4ab0fc",
   "metadata": {},
   "outputs": [
    {
     "data": {
      "text/plain": [
       "'\\nselect * from USERS \\nwhere ID = 5\\ngroup by ADMIN\\n'"
      ]
     },
     "execution_count": 20,
     "metadata": {},
     "output_type": "execute_result"
    }
   ],
   "source": [
    "consulta"
   ]
  },
  {
   "cell_type": "code",
   "execution_count": null,
   "id": "a63ce17f",
   "metadata": {},
   "outputs": [],
   "source": [
    "# Operaciones con string\n",
    "cadena_1 = 'hola mundo'\n",
    "cadena_2 = '5'\n",
    "cadena_3 = 'cinco'"
   ]
  },
  {
   "cell_type": "code",
   "execution_count": null,
   "id": "ce9c718d",
   "metadata": {},
   "outputs": [
    {
     "data": {
      "text/plain": [
       "'Hola mundo'"
      ]
     },
     "execution_count": 24,
     "metadata": {},
     "output_type": "execute_result"
    }
   ],
   "source": [
    "cadena_1.capitalize()"
   ]
  },
  {
   "cell_type": "code",
   "execution_count": null,
   "id": "9e98d1de",
   "metadata": {},
   "outputs": [
    {
     "data": {
      "text/plain": [
       "'CINCO'"
      ]
     },
     "execution_count": 27,
     "metadata": {},
     "output_type": "execute_result"
    }
   ],
   "source": [
    "cadena_3.upper()"
   ]
  },
  {
   "cell_type": "code",
   "execution_count": null,
   "id": "64eeaaac",
   "metadata": {},
   "outputs": [
    {
     "data": {
      "text/plain": [
       "'cinco'"
      ]
     },
     "execution_count": 26,
     "metadata": {},
     "output_type": "execute_result"
    }
   ],
   "source": [
    "cadena_3.lower()"
   ]
  },
  {
   "cell_type": "code",
   "execution_count": null,
   "id": "ef7612d3",
   "metadata": {},
   "outputs": [
    {
     "data": {
      "text/plain": [
       "'Hola Mundo'"
      ]
     },
     "execution_count": 29,
     "metadata": {},
     "output_type": "execute_result"
    }
   ],
   "source": [
    "cadena_1.title()"
   ]
  },
  {
   "cell_type": "code",
   "execution_count": null,
   "id": "ca112f51",
   "metadata": {},
   "outputs": [
    {
     "data": {
      "text/plain": [
       "['hola', 'mundo']"
      ]
     },
     "execution_count": 30,
     "metadata": {},
     "output_type": "execute_result"
    }
   ],
   "source": [
    "#Dividir un string\n",
    "cadena_1.split()"
   ]
  },
  {
   "cell_type": "code",
   "execution_count": null,
   "id": "de7518c9",
   "metadata": {},
   "outputs": [
    {
     "data": {
      "text/plain": [
       "2"
      ]
     },
     "execution_count": 33,
     "metadata": {},
     "output_type": "execute_result"
    }
   ],
   "source": [
    "cadena_1.count('o')"
   ]
  },
  {
   "cell_type": "code",
   "execution_count": null,
   "id": "3c066614",
   "metadata": {},
   "outputs": [
    {
     "data": {
      "text/plain": [
       "10"
      ]
     },
     "execution_count": 35,
     "metadata": {},
     "output_type": "execute_result"
    }
   ],
   "source": [
    "#Longitud de una cadena\n",
    "len(cadena_1)"
   ]
  },
  {
   "cell_type": "code",
   "execution_count": null,
   "id": "85f4327f",
   "metadata": {},
   "outputs": [
    {
     "data": {
      "text/plain": [
       "['hola ', 'undo']"
      ]
     },
     "execution_count": 36,
     "metadata": {},
     "output_type": "execute_result"
    }
   ],
   "source": [
    "# Quitar letra string\n",
    "cadena_1.split('m')"
   ]
  },
  {
   "cell_type": "code",
   "execution_count": 22,
   "id": "862af1a5",
   "metadata": {},
   "outputs": [
    {
     "data": {
      "text/plain": [
       "'(Hola mundo),'"
      ]
     },
     "execution_count": 22,
     "metadata": {},
     "output_type": "execute_result"
    }
   ],
   "source": [
    "# Limpiando extremos de un string\n",
    "cadena_4 = '(Hola mundo), '\n",
    "cadena_4.strip()\n"
   ]
  },
  {
   "cell_type": "code",
   "execution_count": null,
   "id": "2a5bcb8b",
   "metadata": {},
   "outputs": [
    {
     "data": {
      "text/plain": [
       "'Hola mundo'"
      ]
     },
     "execution_count": 40,
     "metadata": {},
     "output_type": "execute_result"
    }
   ],
   "source": [
    "cadena_4.strip('(),')"
   ]
  },
  {
   "cell_type": "code",
   "execution_count": 2,
   "id": "21d2710b",
   "metadata": {},
   "outputs": [
    {
     "data": {
      "text/plain": [
       "'Hi Mundo'"
      ]
     },
     "execution_count": 2,
     "metadata": {},
     "output_type": "execute_result"
    }
   ],
   "source": [
    "# Reemplazar string\n",
    "cadena_5 = 'Hola Mundo'\n",
    "cadena_5.replace('Hola', 'Hi')"
   ]
  },
  {
   "cell_type": "code",
   "execution_count": 4,
   "id": "4d9ecaaf",
   "metadata": {},
   "outputs": [
    {
     "data": {
      "text/plain": [
       "1"
      ]
     },
     "execution_count": 4,
     "metadata": {},
     "output_type": "execute_result"
    }
   ],
   "source": [
    "cadena_5.index('o')"
   ]
  },
  {
   "cell_type": "code",
   "execution_count": null,
   "id": "b1f6bbb6",
   "metadata": {},
   "outputs": [
    {
     "data": {
      "text/plain": [
       "9"
      ]
     },
     "execution_count": 5,
     "metadata": {},
     "output_type": "execute_result"
    }
   ],
   "source": [
    "cadena_5.index('o', 6) ##6 que busque a partir de 6 caracteres"
   ]
  },
  {
   "cell_type": "code",
   "execution_count": 7,
   "id": "0a479b08",
   "metadata": {},
   "outputs": [
    {
     "data": {
      "text/plain": [
       "'a'"
      ]
     },
     "execution_count": 7,
     "metadata": {},
     "output_type": "execute_result"
    }
   ],
   "source": [
    "cadena_5[3]"
   ]
  },
  {
   "cell_type": "code",
   "execution_count": 8,
   "id": "c647028f",
   "metadata": {},
   "outputs": [
    {
     "data": {
      "text/plain": [
       "'d'"
      ]
     },
     "execution_count": 8,
     "metadata": {},
     "output_type": "execute_result"
    }
   ],
   "source": [
    "cadena_5[-2]"
   ]
  },
  {
   "cell_type": "code",
   "execution_count": 18,
   "id": "71b4fdc6",
   "metadata": {},
   "outputs": [
    {
     "data": {
      "text/plain": [
       "'la M'"
      ]
     },
     "execution_count": 18,
     "metadata": {},
     "output_type": "execute_result"
    }
   ],
   "source": [
    "cadena_5[2:-4]"
   ]
  },
  {
   "cell_type": "code",
   "execution_count": 20,
   "id": "eeef5696",
   "metadata": {},
   "outputs": [
    {
     "data": {
      "text/plain": [
       "'odnuM aloH'"
      ]
     },
     "execution_count": 20,
     "metadata": {},
     "output_type": "execute_result"
    }
   ],
   "source": [
    "#Invirtiendo la cadena\n",
    "cadena_5[::-1]"
   ]
  },
  {
   "cell_type": "code",
   "execution_count": 28,
   "id": "19d70525",
   "metadata": {},
   "outputs": [
    {
     "data": {
      "text/plain": [
       "['HOLA', 'MUNDO']"
      ]
     },
     "execution_count": 28,
     "metadata": {},
     "output_type": "execute_result"
    }
   ],
   "source": [
    "#Llamar a una cadena\n",
    "cadena_4.strip('(), ').upper().split()"
   ]
  },
  {
   "cell_type": "code",
   "execution_count": 30,
   "id": "98a55e5a",
   "metadata": {},
   "outputs": [
    {
     "data": {
      "text/plain": [
       "'Hola Jaime este es el curso de Tópicos Especiales en Inteligencia de Negocios'"
      ]
     },
     "execution_count": 30,
     "metadata": {},
     "output_type": "execute_result"
    }
   ],
   "source": [
    "#Python usando f-string\n",
    "nombre = 'Jaime'\n",
    "curso = 'Tópicos Especiales en Inteligencia de Negocios'\n",
    "f'Hola {nombre} este es el curso de {curso}'"
   ]
  },
  {
   "cell_type": "code",
   "execution_count": 39,
   "id": "04a6dd95",
   "metadata": {},
   "outputs": [],
   "source": [
    "string_1 = \"Hola mundo\"\n",
    "string_2 = '5'\n",
    "string_3 = 'cinco'"
   ]
  },
  {
   "cell_type": "code",
   "execution_count": 33,
   "id": "80fb84cb",
   "metadata": {},
   "outputs": [
    {
     "data": {
      "text/plain": [
       "True"
      ]
     },
     "execution_count": 33,
     "metadata": {},
     "output_type": "execute_result"
    }
   ],
   "source": [
    "string_2.isdigit()"
   ]
  },
  {
   "cell_type": "code",
   "execution_count": null,
   "id": "92ea90dd",
   "metadata": {},
   "outputs": [
    {
     "data": {
      "text/plain": [
       "True"
      ]
     },
     "execution_count": 34,
     "metadata": {},
     "output_type": "execute_result"
    }
   ],
   "source": [
    "string_1.isalpha()"
   ]
  },
  {
   "cell_type": "code",
   "execution_count": 35,
   "id": "ac95fd86",
   "metadata": {},
   "outputs": [
    {
     "data": {
      "text/plain": [
       "'abcdefghijklmnopqrstuvwxyzABCDEFGHIJKLMNOPQRSTUVWXYZ'"
      ]
     },
     "execution_count": 35,
     "metadata": {},
     "output_type": "execute_result"
    }
   ],
   "source": [
    "import string\n",
    "string.ascii_letters"
   ]
  },
  {
   "cell_type": "code",
   "execution_count": 36,
   "id": "7c2c4d20",
   "metadata": {},
   "outputs": [
    {
     "data": {
      "text/plain": [
       "'abcdefghijklmnopqrstuvwxyz'"
      ]
     },
     "execution_count": 36,
     "metadata": {},
     "output_type": "execute_result"
    }
   ],
   "source": [
    "string.ascii_lowercase"
   ]
  },
  {
   "cell_type": "code",
   "execution_count": 37,
   "id": "7a448852",
   "metadata": {},
   "outputs": [
    {
     "data": {
      "text/plain": [
       "'ABCDEFGHIJKLMNOPQRSTUVWXYZ'"
      ]
     },
     "execution_count": 37,
     "metadata": {},
     "output_type": "execute_result"
    }
   ],
   "source": [
    "string.ascii_uppercase"
   ]
  },
  {
   "cell_type": "markdown",
   "id": "749a61c2",
   "metadata": {},
   "source": [
    "# 3. Función Print"
   ]
  },
  {
   "cell_type": "code",
   "execution_count": 40,
   "id": "acef5d40",
   "metadata": {},
   "outputs": [
    {
     "name": "stdout",
     "output_type": "stream",
     "text": [
      "Hola mundo\n"
     ]
    }
   ],
   "source": [
    "print(string_1)"
   ]
  },
  {
   "cell_type": "code",
   "execution_count": 41,
   "id": "1acd933b",
   "metadata": {},
   "outputs": [
    {
     "name": "stdout",
     "output_type": "stream",
     "text": [
      "<class 'str'>\n"
     ]
    }
   ],
   "source": [
    "print(type(string_1))"
   ]
  },
  {
   "cell_type": "code",
   "execution_count": 42,
   "id": "261382e8",
   "metadata": {},
   "outputs": [
    {
     "name": "stdout",
     "output_type": "stream",
     "text": [
      "<class 'int'>\n"
     ]
    }
   ],
   "source": [
    "print(type(5))"
   ]
  },
  {
   "cell_type": "code",
   "execution_count": 44,
   "id": "9dabdeb1",
   "metadata": {},
   "outputs": [
    {
     "name": "stdout",
     "output_type": "stream",
     "text": [
      "Mi nombre es: Jaime\n",
      "Mi nombre es: Jaime\n"
     ]
    }
   ],
   "source": [
    "print('Mi nombre es:', nombre)\n",
    "print(f'Mi nombre es: {nombre}')"
   ]
  },
  {
   "cell_type": "code",
   "execution_count": 50,
   "id": "eb6e09e0",
   "metadata": {},
   "outputs": [
    {
     "name": "stdout",
     "output_type": "stream",
     "text": [
      "Los datos del curso son: \n",
      "Curso \t\t: Topicos Especiales en Inteligencia de Negocios \n",
      "Ciclo \t\t: Sexto \n",
      "Tipo Curso \t: Electivo\n"
     ]
    }
   ],
   "source": [
    "print(\"Los datos del curso son: \\nCurso \\t\\t: Topicos Especiales en Inteligencia de Negocios \\nCiclo \\t\\t: Sexto \\nTipo Curso \\t: Electivo\") #Con Alt + Z se acomoda el texto dentro del recuadro"
   ]
  },
  {
   "cell_type": "markdown",
   "id": "8e69ae1c",
   "metadata": {},
   "source": [
    "# 4. Booleanos y condicionales"
   ]
  },
  {
   "cell_type": "code",
   "execution_count": 56,
   "id": "baf14796",
   "metadata": {},
   "outputs": [
    {
     "name": "stdout",
     "output_type": "stream",
     "text": [
      "<class 'bool'>\n"
     ]
    }
   ],
   "source": [
    "final_page = False\n",
    "print(type(final_page))"
   ]
  },
  {
   "cell_type": "code",
   "execution_count": 57,
   "id": "44c18c14",
   "metadata": {},
   "outputs": [
    {
     "name": "stdout",
     "output_type": "stream",
     "text": [
      "Sigue leyendo\n"
     ]
    }
   ],
   "source": [
    "if final_page:\n",
    "    print('Final de la página')\n",
    "else:\n",
    "    print('Sigue leyendo')"
   ]
  },
  {
   "cell_type": "code",
   "execution_count": 58,
   "id": "a3dcf56c",
   "metadata": {},
   "outputs": [
    {
     "data": {
      "text/plain": [
       "False"
      ]
     },
     "execution_count": 58,
     "metadata": {},
     "output_type": "execute_result"
    }
   ],
   "source": [
    "# Operadores lógicos\n",
    "not True"
   ]
  },
  {
   "cell_type": "code",
   "execution_count": 59,
   "id": "039c20c1",
   "metadata": {},
   "outputs": [
    {
     "data": {
      "text/plain": [
       "True"
      ]
     },
     "execution_count": 59,
     "metadata": {},
     "output_type": "execute_result"
    }
   ],
   "source": [
    "not False"
   ]
  },
  {
   "cell_type": "code",
   "execution_count": 60,
   "id": "ca9ed816",
   "metadata": {},
   "outputs": [
    {
     "data": {
      "text/plain": [
       "True"
      ]
     },
     "execution_count": 60,
     "metadata": {},
     "output_type": "execute_result"
    }
   ],
   "source": [
    "True and True"
   ]
  },
  {
   "cell_type": "code",
   "execution_count": 61,
   "id": "87b7a970",
   "metadata": {},
   "outputs": [
    {
     "data": {
      "text/plain": [
       "False"
      ]
     },
     "execution_count": 61,
     "metadata": {},
     "output_type": "execute_result"
    }
   ],
   "source": [
    "True and False"
   ]
  },
  {
   "cell_type": "code",
   "execution_count": 62,
   "id": "41a12b54",
   "metadata": {},
   "outputs": [
    {
     "data": {
      "text/plain": [
       "True"
      ]
     },
     "execution_count": 62,
     "metadata": {},
     "output_type": "execute_result"
    }
   ],
   "source": [
    "True or False"
   ]
  },
  {
   "cell_type": "code",
   "execution_count": 63,
   "id": "6fd2e466",
   "metadata": {},
   "outputs": [
    {
     "ename": "TypeError",
     "evalue": "'<' not supported between instances of 'int' and 'str'",
     "output_type": "error",
     "traceback": [
      "\u001b[31m---------------------------------------------------------------------------\u001b[39m",
      "\u001b[31mTypeError\u001b[39m                                 Traceback (most recent call last)",
      "\u001b[36mCell\u001b[39m\u001b[36m \u001b[39m\u001b[32mIn[63]\u001b[39m\u001b[32m, line 2\u001b[39m\n\u001b[32m      1\u001b[39m \u001b[38;5;66;03m# Comparación\u001b[39;00m\n\u001b[32m----> \u001b[39m\u001b[32m2\u001b[39m \u001b[32;43m1\u001b[39;49m\u001b[43m \u001b[49m\u001b[43m<\u001b[49m\u001b[43m \u001b[49m\u001b[33;43m'\u001b[39;49m\u001b[33;43muno\u001b[39;49m\u001b[33;43m'\u001b[39;49m\n",
      "\u001b[31mTypeError\u001b[39m: '<' not supported between instances of 'int' and 'str'"
     ]
    }
   ],
   "source": [
    "# Comparación\n",
    "1 < 'uno'"
   ]
  },
  {
   "cell_type": "markdown",
   "id": "a6bf3404",
   "metadata": {},
   "source": [
    "# 5. Loops"
   ]
  },
  {
   "cell_type": "code",
   "execution_count": 64,
   "id": "f51d8a75",
   "metadata": {},
   "outputs": [
    {
     "name": "stdout",
     "output_type": "stream",
     "text": [
      "H\n",
      "o\n",
      "l\n",
      "a\n",
      " \n",
      "M\n",
      "u\n",
      "n\n",
      "d\n",
      "o\n"
     ]
    }
   ],
   "source": [
    "for letra in 'Hola Mundo':\n",
    "    print(letra)"
   ]
  },
  {
   "cell_type": "code",
   "execution_count": 71,
   "id": "13c3888c",
   "metadata": {},
   "outputs": [
    {
     "name": "stdout",
     "output_type": "stream",
     "text": [
      "Palabras: ['Hola', 'a', 'todos'] \n"
     ]
    }
   ],
   "source": [
    "my_string = 'Hola a todos'\n",
    "palabras = my_string.split()\n",
    "print(f'Palabras: {palabras} ')"
   ]
  },
  {
   "cell_type": "code",
   "execution_count": null,
   "id": "0c216715",
   "metadata": {},
   "outputs": [
    {
     "name": "stdout",
     "output_type": "stream",
     "text": [
      "Hola\n",
      "a\n",
      "todos\n"
     ]
    }
   ],
   "source": [
    "for palabra in palabras:\n",
    "    print(palabra)"
   ]
  },
  {
   "cell_type": "code",
   "execution_count": 74,
   "id": "2a66f5e5",
   "metadata": {},
   "outputs": [
    {
     "name": "stdout",
     "output_type": "stream",
     "text": [
      "1 Hola\n",
      "2 a\n",
      "3 todos\n"
     ]
    }
   ],
   "source": [
    "for idx, palabra in enumerate(palabras, 1):\n",
    "    print(idx, palabra)"
   ]
  },
  {
   "cell_type": "code",
   "execution_count": 78,
   "id": "cddea225",
   "metadata": {},
   "outputs": [
    {
     "name": "stdout",
     "output_type": "stream",
     "text": [
      "El numero de intento es 1\n",
      "El numero de intento es 2\n",
      "El numero de intento es 3\n",
      "El numero de intento es 4\n",
      "El numero de intento es 5\n"
     ]
    }
   ],
   "source": [
    "# Trabajando while loops\n",
    "max_intentos = 5\n",
    "intento = 1\n",
    "while intento <= max_intentos:\n",
    "    print(f'El numero de intento es {intento}')\n",
    "    intento += 1"
   ]
  },
  {
   "cell_type": "markdown",
   "id": "2e02bb2d",
   "metadata": {},
   "source": [
    "# 6. Funciones"
   ]
  },
  {
   "cell_type": "code",
   "execution_count": 79,
   "id": "78825d5b",
   "metadata": {},
   "outputs": [
    {
     "name": "stdout",
     "output_type": "stream",
     "text": [
      "Ya me voy\n"
     ]
    }
   ],
   "source": [
    "print('Ya me voy')"
   ]
  },
  {
   "cell_type": "code",
   "execution_count": null,
   "id": "53b9c830",
   "metadata": {},
   "outputs": [
    {
     "data": {
      "text/plain": [
       "17"
      ]
     },
     "execution_count": 80,
     "metadata": {},
     "output_type": "execute_result"
    }
   ],
   "source": [
    "len('Aprobaré el curso')"
   ]
  },
  {
   "cell_type": "code",
   "execution_count": 81,
   "id": "eccd5e71",
   "metadata": {},
   "outputs": [],
   "source": [
    "#Creando funciones\n",
    "def saluda():\n",
    "    print('Hola')"
   ]
  },
  {
   "cell_type": "code",
   "execution_count": 82,
   "id": "4c0de63e",
   "metadata": {},
   "outputs": [
    {
     "name": "stdout",
     "output_type": "stream",
     "text": [
      "Hola\n"
     ]
    }
   ],
   "source": [
    "saluda()"
   ]
  },
  {
   "cell_type": "code",
   "execution_count": 85,
   "id": "9f2ebb7c",
   "metadata": {},
   "outputs": [],
   "source": [
    "def saluda(nombre):\n",
    "    print(f'Hola, {nombre}')"
   ]
  },
  {
   "cell_type": "code",
   "execution_count": 87,
   "id": "0f049e0d",
   "metadata": {},
   "outputs": [
    {
     "name": "stdout",
     "output_type": "stream",
     "text": [
      "Hola, Juan Perez\n"
     ]
    }
   ],
   "source": [
    "saluda('Juan Perez')"
   ]
  },
  {
   "cell_type": "code",
   "execution_count": 88,
   "id": "953a4e28",
   "metadata": {},
   "outputs": [],
   "source": [
    "def bienvenido(nombre, lugar):\n",
    "    print(f'Bienvenid@ {nombre}, llegaste a {lugar}')"
   ]
  },
  {
   "cell_type": "code",
   "execution_count": 89,
   "id": "db9bd3ec",
   "metadata": {},
   "outputs": [
    {
     "name": "stdout",
     "output_type": "stream",
     "text": [
      "Bienvenid@ Alexander, llegaste a Cusco\n"
     ]
    }
   ],
   "source": [
    "bienvenido('Alexander', 'Cusco')"
   ]
  },
  {
   "cell_type": "code",
   "execution_count": 100,
   "id": "329f7da9",
   "metadata": {},
   "outputs": [],
   "source": [
    "# Funcion que retorna un valor\n",
    "def sumar(a, b):\n",
    "    return a + b"
   ]
  },
  {
   "cell_type": "code",
   "execution_count": 108,
   "id": "dc935e93",
   "metadata": {},
   "outputs": [
    {
     "name": "stdout",
     "output_type": "stream",
     "text": [
      "15\n"
     ]
    }
   ],
   "source": [
    "resultado = sumar(9,6)\n",
    "print(resultado)"
   ]
  },
  {
   "cell_type": "code",
   "execution_count": 110,
   "id": "7e89043e",
   "metadata": {},
   "outputs": [
    {
     "name": "stdout",
     "output_type": "stream",
     "text": [
      "La suma es un numero impar\n"
     ]
    }
   ],
   "source": [
    "if sumar(9, 6) % 2 == 0:\n",
    "    print('La suma es un numero par')\n",
    "else:\n",
    "    print('La suma es un numero impar')"
   ]
  },
  {
   "cell_type": "code",
   "execution_count": 111,
   "id": "74a51732",
   "metadata": {},
   "outputs": [
    {
     "ename": "NameError",
     "evalue": "name 'nose' is not defined",
     "output_type": "error",
     "traceback": [
      "\u001b[31m---------------------------------------------------------------------------\u001b[39m",
      "\u001b[31mNameError\u001b[39m                                 Traceback (most recent call last)",
      "\u001b[36mCell\u001b[39m\u001b[36m \u001b[39m\u001b[32mIn[111]\u001b[39m\u001b[32m, line 1\u001b[39m\n\u001b[32m----> \u001b[39m\u001b[32m1\u001b[39m \u001b[38;5;28mprint\u001b[39m(\u001b[43mnose\u001b[49m)\n",
      "\u001b[31mNameError\u001b[39m: name 'nose' is not defined"
     ]
    }
   ],
   "source": [
    "print(nose)"
   ]
  },
  {
   "cell_type": "markdown",
   "id": "b382099c",
   "metadata": {},
   "source": [
    "# 7. Otros\n",
    "\n",
    "- Manejo de Excepciones\n",
    "- Instrucciones: Pass, Continue, Break"
   ]
  },
  {
   "cell_type": "code",
   "execution_count": 113,
   "id": "05ea094b",
   "metadata": {},
   "outputs": [
    {
     "ename": "NameError",
     "evalue": "name 'pritn' is not defined",
     "output_type": "error",
     "traceback": [
      "\u001b[31m---------------------------------------------------------------------------\u001b[39m",
      "\u001b[31mNameError\u001b[39m                                 Traceback (most recent call last)",
      "\u001b[36mCell\u001b[39m\u001b[36m \u001b[39m\u001b[32mIn[113]\u001b[39m\u001b[32m, line 2\u001b[39m\n\u001b[32m      1\u001b[39m \u001b[38;5;66;03m# NameError\u001b[39;00m\n\u001b[32m----> \u001b[39m\u001b[32m2\u001b[39m \u001b[43mpritn\u001b[49m(\u001b[33m'\u001b[39m\u001b[33mTest\u001b[39m\u001b[33m'\u001b[39m)\n",
      "\u001b[31mNameError\u001b[39m: name 'pritn' is not defined"
     ]
    }
   ],
   "source": [
    "# NameError\n",
    "pritn('Test')"
   ]
  },
  {
   "cell_type": "code",
   "execution_count": 116,
   "id": "7e33e071",
   "metadata": {},
   "outputs": [
    {
     "name": "stdout",
     "output_type": "stream",
     "text": [
      "Esto es un error de NameError\n"
     ]
    }
   ],
   "source": [
    "try:\n",
    "    pritn('Test')\n",
    "except:\n",
    "    print('Esto es un error de NameError')"
   ]
  },
  {
   "cell_type": "code",
   "execution_count": 120,
   "id": "2f16d8e2",
   "metadata": {},
   "outputs": [
    {
     "ename": "KeyError",
     "evalue": "'apellido'",
     "output_type": "error",
     "traceback": [
      "\u001b[31m---------------------------------------------------------------------------\u001b[39m",
      "\u001b[31mKeyError\u001b[39m                                  Traceback (most recent call last)",
      "\u001b[36mCell\u001b[39m\u001b[36m \u001b[39m\u001b[32mIn[120]\u001b[39m\u001b[32m, line 3\u001b[39m\n\u001b[32m      1\u001b[39m \u001b[38;5;66;03m# Errores comunes: KeyError\u001b[39;00m\n\u001b[32m      2\u001b[39m dict_alumno = {\u001b[33m'\u001b[39m\u001b[33mnombre\u001b[39m\u001b[33m'\u001b[39m: \u001b[33m'\u001b[39m\u001b[33mAngel\u001b[39m\u001b[33m'\u001b[39m}\n\u001b[32m----> \u001b[39m\u001b[32m3\u001b[39m \u001b[43mdict_alumno\u001b[49m\u001b[43m \u001b[49m\u001b[43m[\u001b[49m\u001b[33;43m'\u001b[39;49m\u001b[33;43mapellido\u001b[39;49m\u001b[33;43m'\u001b[39;49m\u001b[43m]\u001b[49m\n",
      "\u001b[31mKeyError\u001b[39m: 'apellido'"
     ]
    }
   ],
   "source": [
    "# Errores comunes: KeyError\n",
    "dict_alumno = {'nombre': 'Angel'}\n",
    "dict_alumno ['apellido']"
   ]
  },
  {
   "cell_type": "code",
   "execution_count": 121,
   "id": "a1842228",
   "metadata": {},
   "outputs": [
    {
     "name": "stdout",
     "output_type": "stream",
     "text": [
      "Esto es un error KeyError\n"
     ]
    }
   ],
   "source": [
    "try:\n",
    "    dict_alumno['apellido']\n",
    "except:\n",
    "    print('Esto es un error KeyError')"
   ]
  },
  {
   "cell_type": "code",
   "execution_count": 123,
   "id": "104d77b3",
   "metadata": {},
   "outputs": [
    {
     "ename": "IndexError",
     "evalue": "list index out of range",
     "output_type": "error",
     "traceback": [
      "\u001b[31m---------------------------------------------------------------------------\u001b[39m",
      "\u001b[31mIndexError\u001b[39m                                Traceback (most recent call last)",
      "\u001b[36mCell\u001b[39m\u001b[36m \u001b[39m\u001b[32mIn[123]\u001b[39m\u001b[32m, line 3\u001b[39m\n\u001b[32m      1\u001b[39m \u001b[38;5;66;03m# Errores al indexar: IndexError\u001b[39;00m\n\u001b[32m      2\u001b[39m lista = [\u001b[32m1\u001b[39m,\u001b[32m2\u001b[39m,\u001b[32m3\u001b[39m]\n\u001b[32m----> \u001b[39m\u001b[32m3\u001b[39m \u001b[43mlista\u001b[49m\u001b[43m[\u001b[49m\u001b[32;43m7\u001b[39;49m\u001b[43m]\u001b[49m\n",
      "\u001b[31mIndexError\u001b[39m: list index out of range"
     ]
    }
   ],
   "source": [
    "# Errores al indexar: IndexError\n",
    "lista = [1,2,3]\n",
    "lista[7]"
   ]
  },
  {
   "cell_type": "code",
   "execution_count": 124,
   "id": "cdcf18ac",
   "metadata": {},
   "outputs": [
    {
     "name": "stdout",
     "output_type": "stream",
     "text": [
      "Esto es un error IndexError\n"
     ]
    }
   ],
   "source": [
    "try:\n",
    "    lista[7]\n",
    "except:\n",
    "    print('Esto es un error IndexError')"
   ]
  },
  {
   "cell_type": "code",
   "execution_count": 125,
   "id": "608705c5",
   "metadata": {},
   "outputs": [],
   "source": [
    "# Funcion para detectar errores\n",
    "def get_cociente(x, y):\n",
    "    try:\n",
    "        resultado = x // y\n",
    "    except ZeroDivisionError:\n",
    "        print('No es posible la división por cero')\n",
    "    except TypeError as e:\n",
    "        print('Error de TypeError. Detalle:', e)\n",
    "    else:\n",
    "        print('El resultado es:', resultado)\n",
    "    finally:\n",
    "        print('Esto siempre se ejecuta')"
   ]
  },
  {
   "cell_type": "code",
   "execution_count": 133,
   "id": "0470f7d5",
   "metadata": {},
   "outputs": [
    {
     "name": "stdout",
     "output_type": "stream",
     "text": [
      "El resultado es: 1\n",
      "Esto siempre se ejecuta\n"
     ]
    }
   ],
   "source": [
    "get_cociente(6, 5)"
   ]
  },
  {
   "cell_type": "code",
   "execution_count": 130,
   "id": "28eee0be",
   "metadata": {},
   "outputs": [
    {
     "name": "stdout",
     "output_type": "stream",
     "text": [
      "Error de TypeError. Detalle: unsupported operand type(s) for //: 'int' and 'str'\n",
      "Esto siempre se ejecuta\n"
     ]
    }
   ],
   "source": [
    "get_cociente(16, 'a')"
   ]
  },
  {
   "cell_type": "code",
   "execution_count": 132,
   "id": "4ca5dd24",
   "metadata": {},
   "outputs": [
    {
     "name": "stdout",
     "output_type": "stream",
     "text": [
      "No es posible la división por cero\n",
      "Esto siempre se ejecuta\n"
     ]
    }
   ],
   "source": [
    "get_cociente(55, 0)"
   ]
  }
 ],
 "metadata": {
  "kernelspec": {
   "display_name": "myenv",
   "language": "python",
   "name": "python3"
  },
  "language_info": {
   "codemirror_mode": {
    "name": "ipython",
    "version": 3
   },
   "file_extension": ".py",
   "mimetype": "text/x-python",
   "name": "python",
   "nbconvert_exporter": "python",
   "pygments_lexer": "ipython3",
   "version": "3.13.5"
  }
 },
 "nbformat": 4,
 "nbformat_minor": 5
}
